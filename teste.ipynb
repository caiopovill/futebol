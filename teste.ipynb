{
 "cells": [
  {
   "cell_type": "code",
   "execution_count": 14,
   "metadata": {},
   "outputs": [],
   "source": [
    "import requests\n",
    "from lxml import etree\n",
    "from bs4 import BeautifulSoup\n",
    "req = requests.get('https://www.placardefutebol.com.br/campeonato-chileno/06-02-2023-ohiggins-x-huachipato.html')\n",
    "soup = BeautifulSoup(req.text, 'html.parser')\n",
    "\n",
    "dom = etree.HTML(str(soup))\n",
    "home_team = dom.xpath('//*[@id=\"livescore\"]/div[1]/div[1]/div/div[2]/div[1]/a/h4')[0].text\n",
    "away_team = dom.xpath('//*[@id=\"livescore\"]/div[1]/div[1]/div/div[2]/div[3]/a/h4')[0].text\n",
    "date = dom.xpath('//*[@id=\"livescore\"]/div[1]/div[2]/p[1]/text()')[0]\n",
    "\n",
    "\n",
    "\n"
   ]
  },
  {
   "cell_type": "code",
   "execution_count": 34,
   "metadata": {},
   "outputs": [
    {
     "data": {
      "text/plain": [
       "{'Posse de bola (%) home_team': '48',\n",
       " 'Posse de bola (%) away_team': '52',\n",
       " 'Total de passes home_team': '411',\n",
       " 'Total de passes away_team': '471',\n",
       " 'Passes corretos (%) home_team': '79',\n",
       " 'Passes corretos (%) away_team': '79',\n",
       " 'Total de chutes home_team': '16',\n",
       " 'Total de chutes away_team': '10',\n",
       " 'Chutes no gol home_team': '2',\n",
       " 'Chutes no gol away_team': '3',\n",
       " 'Escanteios home_team': '6',\n",
       " 'Escanteios away_team': '5',\n",
       " 'Faltas cometidas home_team': '9',\n",
       " 'Faltas cometidas away_team': '13'}"
      ]
     },
     "execution_count": 34,
     "metadata": {},
     "output_type": "execute_result"
    }
   ],
   "source": [
    "import requests\n",
    "from lxml import etree\n",
    "from bs4 import BeautifulSoup\n",
    "\n",
    "req = requests.get('https://www.placardefutebol.com.br/campeonato-chileno/06-02-2023-ohiggins-x-huachipato.html')\n",
    "soup = BeautifulSoup(req.text, 'html.parser')\n",
    "\n",
    "\n",
    "stats = soup.find_all('td', {'class':'standing-table text-center stats-category'})\n",
    "stats_home = soup.find_all('td', {'class':'standing-table text-center stats-home-team'})\n",
    "stats_away = soup.find_all('td', {'class':'standing-table text-center stats-away-team'})\n",
    "\n",
    "\n",
    "\n",
    "\n",
    "dic = {}\n",
    "for n in range(len(stats)):\n",
    "    dic[f'{stats[n].text} home_team'] = stats_home[n].text\n",
    "    dic[f'{stats[n].text} away_team'] = stats_away[n].text\n",
    "\n",
    "dic = {k.strip().replace('\\n', ''): v.strip() for k, v in dic.items()}\n",
    "\n",
    "dic\n"
   ]
  },
  {
   "cell_type": "code",
   "execution_count": 47,
   "metadata": {},
   "outputs": [
    {
     "data": {
      "text/plain": [
       "[{'link': 'https://www.placardefutebol.com.br/campeonato-espanhol/11-02-2023-valencia-x-athletic-bilbao.html'},\n",
       " {'link': 'https://www.placardefutebol.com.br/campeonato-italiano/11-02-2023-lazio-x-atalanta.html'},\n",
       " {'link': 'https://www.placardefutebol.com.br/campeonato-argentino/11-02-2023-defensa-y-justicia-x-newells-old-boys.html'}]"
      ]
     },
     "execution_count": 47,
     "metadata": {},
     "output_type": "execute_result"
    }
   ],
   "source": [
    "from src.drivers.mocks.http_requester_mock import mocks_request_from_page\n",
    "from src.drivers.http_requester import HttpRequesterLinks\n",
    "\n",
    "http_request_links = HttpRequesterLinks()\n",
    "req = http_request_links.request_from_page_links()['html']\n",
    "soup = BeautifulSoup(req, 'html.parser')\n",
    "\n",
    "\n",
    "list_campeonatos = soup.find('div', {'id': 'livescore'})\n",
    "campeonatos = list_campeonatos.find_all('div',{'class':'container content'})\n",
    "\n",
    "links_ativos = []\n",
    "\n",
    "for campeonato in campeonatos:\n",
    "    for jogo in campeonato.find_all('a'):\n",
    "        if jogo.find('span'):\n",
    "            if jogo.find('span').text == 'INTERVALO' or jogo.find('span').text == 'INTERVALO' or jogo.find('span').text == 'INTERVALO':\n",
    "                if not jogo['href'].startswith(\"https\"):\n",
    "                    link = 'https://www.placardefutebol.com.br'+jogo['href']\n",
    "                links_ativos.append({\n",
    "                    'link':link\n",
    "                })\n",
    "links_ativos"
   ]
  },
  {
   "cell_type": "code",
   "execution_count": 57,
   "metadata": {},
   "outputs": [
    {
     "data": {
      "text/plain": [
       "datetime.date(2023, 2, 11)"
      ]
     },
     "execution_count": 57,
     "metadata": {},
     "output_type": "execute_result"
    }
   ],
   "source": [
    "from datetime import date\n",
    "\n",
    "date.today()\n"
   ]
  },
  {
   "cell_type": "code",
   "execution_count": 5,
   "metadata": {},
   "outputs": [
    {
     "data": {
      "text/plain": [
       "'INTERVALO'"
      ]
     },
     "execution_count": 5,
     "metadata": {},
     "output_type": "execute_result"
    }
   ],
   "source": [
    "from lxml import etree\n",
    "from bs4 import BeautifulSoup\n",
    "import requests\n",
    "stats_ativos = []\n",
    "response = requests.get('https://www.placardefutebol.com.br/campeonato-paulista/12-02-2023-agua-santa-x-palmeiras.html')\n",
    "\n",
    "soup = BeautifulSoup(response.text, 'html.parser')\n",
    "dom = etree.HTML(str(soup))\n",
    "x = dom.xpath('//*[@id=\"livescore\"]/div[1]/div[1]/div/div[1]/div[2]/span[1]')[0].text\n",
    "x"
   ]
  },
  {
   "cell_type": "code",
   "execution_count": null,
   "metadata": {},
   "outputs": [],
   "source": [
    "dict1 = {'home_team':'1', 'away_team':'2', 'date':'3', 'posse_bola_home':'4','posse_bola_away':'5', 'passes_home':'6', 'passes_away':'8'}\n",
    "\n"
   ]
  }
 ],
 "metadata": {
  "kernelspec": {
   "display_name": "env",
   "language": "python",
   "name": "python3"
  },
  "language_info": {
   "codemirror_mode": {
    "name": "ipython",
    "version": 3
   },
   "file_extension": ".py",
   "mimetype": "text/x-python",
   "name": "python",
   "nbconvert_exporter": "python",
   "pygments_lexer": "ipython3",
   "version": "3.10.6"
  },
  "orig_nbformat": 4,
  "vscode": {
   "interpreter": {
    "hash": "15e9cf544470aae094a3b1bee9cdea381c2e99580138f66860fdb7eafbc5422d"
   }
  }
 },
 "nbformat": 4,
 "nbformat_minor": 2
}
